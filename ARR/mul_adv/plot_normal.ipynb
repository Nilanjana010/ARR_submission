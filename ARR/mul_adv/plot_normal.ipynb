{
 "cells": [
  {
   "cell_type": "code",
   "execution_count": null,
   "metadata": {},
   "outputs": [],
   "source": [
    "import os\n",
    "import json"
   ]
  },
  {
   "cell_type": "code",
   "execution_count": null,
   "metadata": {},
   "outputs": [],
   "source": [
    "folder_path2 = \"****\"\n",
    "file_list2 = os.listdir(folder_path2)\n",
    "for file_name2 in file_list2:\n",
    "    file_path2 = os.path.join(folder_path2, file_name2)\n",
    "    listQA2, count2, total_count2 = [], 0, 0\n",
    "    print(\"file_path2 = \", file_path2)\n",
    "    if os.path.isfile(file_path2):\n",
    "       with open(file_path2, \"r\") as file2:\n",
    "                for line2 in file2:\n",
    "                    data2 = json.loads(line2)\n",
    "                    total_count2 += 1\n",
    "                    #print(\"data == \", data)\n",
    "                    if \"#thescore: 5\" in data2[\"duo_reason\"]:\n",
    "                        listQA2.append(data2[\"que\"] + \"\\n\" + data2[\"ans\"])\n",
    "                        count2 += 1\n",
    "                print(f\"count/total count (crime) == \", count2, \"/\", total_count2)\n",
    "                print(f\"len(listQA) (crime) == \", len(listQA2))\n",
    "                print(f\"len(listQA) (crime) == \", listQA2, \"\\n\\n\\n\\n\")"
   ]
  }
 ],
 "metadata": {
  "kernelspec": {
   "display_name": "Python 3",
   "language": "python",
   "name": "python3"
  },
  "language_info": {
   "codemirror_mode": {
    "name": "ipython",
    "version": 3
   },
   "file_extension": ".py",
   "mimetype": "text/x-python",
   "name": "python",
   "nbconvert_exporter": "python",
   "pygments_lexer": "ipython3",
   "version": "3.9.0"
  }
 },
 "nbformat": 4,
 "nbformat_minor": 2
}

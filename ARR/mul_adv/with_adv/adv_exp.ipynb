{
 "cells": [
  {
   "cell_type": "code",
   "execution_count": null,
   "metadata": {},
   "outputs": [],
   "source": [
    "import os\n",
    "import json\n",
    "import re"
   ]
  },
  {
   "cell_type": "code",
   "execution_count": null,
   "metadata": {},
   "outputs": [],
   "source": [
    "folder_path2 = \"****\"\n",
    "directory = \"****\"\n",
    "filename = \"adversarial_texts_p_nuclear.out\"\n",
    "file_path = os.path.join(directory, filename)\n",
    "print(f\"filename = {filename}\")\n",
    "file_list2 = os.listdir(folder_path2)\n",
    "for file_name2 in file_list2:\n",
    "       if \"adversarial_texts_p_nuclear\" in file_name2:     \n",
    "            file_path2 = os.path.join(folder_path2, file_name2)\n",
    "            set_adv, count = set(), 0\n",
    "            print(\"file path 2 = \", file_path2)\n",
    "            if os.path.isfile(file_path2):\n",
    "                with open(file_path2, \"r\") as file2:\n",
    "                        for line2 in file2:\n",
    "                            data2 = json.loads(line2)\n",
    "                            if \"#thescore: 5\" in data2[\"duo_reason\"]:\n",
    "                                count+=1\n",
    "                                if os.path.exists(file_path):\n",
    "                                    with open(file_path, 'r') as f:\n",
    "                                        for line in f:\n",
    "                                                data = line.strip()\n",
    "                                                #print(f\"data = {data}\")\n",
    "                                                match = re.match(r'(.*)::=(.*)', data)\n",
    "\n",
    "                                                # If there's a match, extract both parts\n",
    "                                                if match:\n",
    "                                                    model_name_part1 = match.group(1)  \n",
    "                                                    sensibletext = match.group(2).strip()  \n",
    "                                                #print(f\"model_name_part1 = {model_name_part1}, sensibletext = {sensibletext}\")\n",
    "                                                if sensibletext in data2[\"que\"]:\n",
    "                                                    set_adv.add(model_name_part1)\n",
    "            print(f\"set_adv for {file_name2} and count of {count} = \", set_adv)\n",
    "                                        \n",
    "                "
   ]
  },
  {
   "cell_type": "code",
   "execution_count": null,
   "metadata": {},
   "outputs": [],
   "source": [
    "folder_path2 = \"****\"\n",
    "directory = \"****\"\n",
    "filename = \"adversarial_texts.out\"\n",
    "file_path = os.path.join(directory, filename)\n",
    "print(f\"filename = {filename}\")\n",
    "file_list2 = os.listdir(folder_path2)\n",
    "for file_name2 in file_list2:\n",
    "       if \"adversarial_texts_p_nuclear\" not in file_name2:     \n",
    "            file_path2 = os.path.join(folder_path2, file_name2)\n",
    "            set_adv, count = set(), 0\n",
    "            print(\"file path 2 = \", file_path2)\n",
    "            if os.path.isfile(file_path2):\n",
    "                with open(file_path2, \"r\") as file2:\n",
    "                        for line2 in file2:\n",
    "                            data2 = json.loads(line2)\n",
    "                            if \"#thescore: 5\" in data2[\"duo_reason\"]:\n",
    "                                count+=1\n",
    "                                if os.path.exists(file_path):\n",
    "                                    with open(file_path, 'r') as f:\n",
    "                                        for line in f:\n",
    "                                                data = line.strip()\n",
    "                                                #print(f\"data = {data}\")\n",
    "                                                match = re.match(r'(.*)::=(.*)', data)\n",
    "\n",
    "                                                # If there's a match, extract both parts\n",
    "                                                if match:\n",
    "                                                    model_name_part1 = match.group(1)  \n",
    "                                                    sensibletext = match.group(2).strip()  \n",
    "                                                #print(f\"model_name_part1 = {model_name_part1}, sensibletext = {sensibletext}\")\n",
    "                                                if sensibletext in data2[\"que\"]:\n",
    "                                                    #print(data2[\"que\"])\n",
    "                                                    set_adv.add(model_name_part1)\n",
    "            print(f\"set_adv for {file_name2} and count of {count} = \", set_adv)\n",
    "                                        \n",
    "                "
   ]
  }
 ],
 "metadata": {
  "kernelspec": {
   "display_name": "base",
   "language": "python",
   "name": "python3"
  },
  "language_info": {
   "codemirror_mode": {
    "name": "ipython",
    "version": 3
   },
   "file_extension": ".py",
   "mimetype": "text/x-python",
   "name": "python",
   "nbconvert_exporter": "python",
   "pygments_lexer": "ipython3",
   "version": "3.9.12"
  }
 },
 "nbformat": 4,
 "nbformat_minor": 2
}
